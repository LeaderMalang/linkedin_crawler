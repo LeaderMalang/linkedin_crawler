{
 "cells": [
  {
   "cell_type": "markdown",
   "metadata": {
    "editable": true,
    "slideshow": {
     "slide_type": ""
    },
    "tags": []
   },
   "source": [
    "# Install Modules"
   ]
  },
  {
   "cell_type": "markdown",
   "metadata": {
    "editable": true,
    "slideshow": {
     "slide_type": ""
    },
    "tags": []
   },
   "source": [
    "!pip install selenium\n",
    "\n",
    "!pip install python-dotenv\n",
    "\n",
    "!pip install webdriver-manager"
   ]
  },
  {
   "cell_type": "markdown",
   "metadata": {
    "editable": true,
    "slideshow": {
     "slide_type": ""
    },
    "tags": []
   },
   "source": [
    "# LinkedIn Login Automation with Selenium\n",
    "\n",
    "This notebook demonstrates how to automate logging into LinkedIn using Selenium WebDriver with Python. The script will:\n",
    "- Log into LinkedIn using credentials stored in environment variables.\n",
    "- Scroll the feed continuously.\n",
    "- Click the \"See new posts\" button if it appears.\n",
    "\n",
    "**Note:** Ensure you have set the environment variables `LINKEDIN_EMAIL` and `LINKEDIN_PASSWORD` with your LinkedIn credentials."
   ]
  },
  {
   "cell_type": "code",
   "execution_count": 21,
   "metadata": {
    "editable": true,
    "slideshow": {
     "slide_type": ""
    },
    "tags": []
   },
   "outputs": [],
   "source": [
    "from selenium.webdriver.support.ui import WebDriverWait\n",
    "from selenium.webdriver.support import expected_conditions as EC\n",
    "from selenium.common.exceptions import NoSuchElementException\n",
    "from selenium.webdriver.common.by import By\n",
    "from selenium.webdriver.common.keys import Keys\n",
    "from selenium import webdriver\n",
    "import time\n",
    "import os"
   ]
  },
  {
   "cell_type": "markdown",
   "metadata": {
    "editable": true,
    "slideshow": {
     "slide_type": ""
    },
    "tags": []
   },
   "source": [
    "## Function to Login to LinkedIn\n",
    "\n",
    "The following function logs into LinkedIn and scrolls through the feed. It also clicks the \"See new posts\" button if it appears."
   ]
  },
  {
   "cell_type": "code",
   "execution_count": 22,
   "metadata": {
    "editable": true,
    "slideshow": {
     "slide_type": ""
    },
    "tags": []
   },
   "outputs": [],
   "source": [
    "def login_to_linkedin_with_proxy(driver):\n",
    "    try:\n",
    "        # Set email here\n",
    "        email = os.environ['LINKEDIN_EMAIL'] \n",
    "        email_field = WebDriverWait(driver, 10).until(EC.presence_of_element_located((By.ID, \"session_key\")))\n",
    "        email_field.send_keys(email)\n",
    "        \n",
    "        # Set password here\n",
    "        password = os.environ['LINKEDIN_PASSWORD']   \n",
    "        password_field = WebDriverWait(driver, 10).until(EC.presence_of_element_located((By.ID, \"session_password\")))\n",
    "        password_field.send_keys(password)\n",
    "\n",
    "        login_button = driver.find_element(By.CSS_SELECTOR, \"button[type='submit']\")\n",
    "        login_button.click()\n",
    "        \n",
    "        WebDriverWait(driver, 10).until(EC.url_contains(\"https://www.linkedin.com/feed/\"))\n",
    "        \n",
    "        print(\"Login successful!\")\n",
    "\n",
    "        while True:\n",
    "            driver.execute_script(\"window.scrollTo(0, document.body.scrollHeight);\")\n",
    "            time.sleep(5)\n",
    "            \n",
    "            # Check if the button exists\n",
    "            try:\n",
    "                button = driver.find_element(By.CSS_SELECTOR, \"button.artdeco-button.artdeco-button--secondary.mv5.t-14.t-black.t-normal\")\n",
    "                button.click()\n",
    "                print(\"Clicked 'See new posts' button.\")\n",
    "            except NoSuchElementException:\n",
    "                pass\n",
    "        \n",
    "    except Exception as e:\n",
    "        print(\"Error during login:\", e)\n",
    "        \n",
    "    finally:\n",
    "        driver.quit()"
   ]
  },
  {
   "cell_type": "markdown",
   "metadata": {
    "editable": true,
    "slideshow": {
     "slide_type": ""
    },
    "tags": []
   },
   "source": [
    "## Running the Script\n",
    "\n",
    "Before running the script, ensure that you have:\n",
    "- Set up your environment variables `LINKEDIN_EMAIL` and `LINKEDIN_PASSWORD`.\n",
    "- Installed the necessary packages using `pip install -r requirements.txt`.\n",
    "- Downloaded the appropriate WebDriver for your browser and added it to your system PATH.\n",
    "\n",
    "The following cell initializes the WebDriver and calls the `login_to_linkedin_with_proxy` function."
   ]
  },
  {
   "cell_type": "markdown",
   "metadata": {
    "editable": true,
    "slideshow": {
     "slide_type": ""
    },
    "tags": []
   },
   "source": [
    "# LinkedIn Automation with Custom Chrome Driver\n",
    "\n",
    "This notebook demonstrates how to use a custom Chrome WebDriver to automate tasks, such as rotating user agents, managing cookies, and performing logins using Selenium and environment variables. Ensure you have set the necessary environment variables before running the script."
   ]
  },
  {
   "cell_type": "code",
   "execution_count": 23,
   "metadata": {
    "editable": true,
    "slideshow": {
     "slide_type": ""
    },
    "tags": []
   },
   "outputs": [
    {
     "ename": "ModuleNotFoundError",
     "evalue": "No module named 'webdriver_manager'",
     "output_type": "error",
     "traceback": [
      "\u001b[1;31m---------------------------------------------------------------------------\u001b[0m",
      "\u001b[1;31mModuleNotFoundError\u001b[0m                       Traceback (most recent call last)",
      "Cell \u001b[1;32mIn[23], line 4\u001b[0m\n\u001b[0;32m      2\u001b[0m \u001b[38;5;28;01mfrom\u001b[39;00m \u001b[38;5;21;01mselenium\u001b[39;00m\u001b[38;5;21;01m.\u001b[39;00m\u001b[38;5;21;01mwebdriver\u001b[39;00m\u001b[38;5;21;01m.\u001b[39;00m\u001b[38;5;21;01mchrome\u001b[39;00m\u001b[38;5;21;01m.\u001b[39;00m\u001b[38;5;21;01moptions\u001b[39;00m \u001b[38;5;28;01mimport\u001b[39;00m Options \u001b[38;5;28;01mas\u001b[39;00m ChromeOptions\n\u001b[0;32m      3\u001b[0m \u001b[38;5;28;01mfrom\u001b[39;00m \u001b[38;5;21;01mselenium\u001b[39;00m\u001b[38;5;21;01m.\u001b[39;00m\u001b[38;5;21;01mwebdriver\u001b[39;00m\u001b[38;5;21;01m.\u001b[39;00m\u001b[38;5;21;01mchrome\u001b[39;00m\u001b[38;5;21;01m.\u001b[39;00m\u001b[38;5;21;01mservice\u001b[39;00m \u001b[38;5;28;01mimport\u001b[39;00m Service \u001b[38;5;28;01mas\u001b[39;00m ChromeService\n\u001b[1;32m----> 4\u001b[0m \u001b[38;5;28;01mfrom\u001b[39;00m \u001b[38;5;21;01mwebdriver_manager\u001b[39;00m\u001b[38;5;21;01m.\u001b[39;00m\u001b[38;5;21;01mchrome\u001b[39;00m \u001b[38;5;28;01mimport\u001b[39;00m ChromeDriverManager\n\u001b[0;32m      6\u001b[0m \u001b[38;5;28;01mimport\u001b[39;00m \u001b[38;5;21;01mrandom\u001b[39;00m\n\u001b[0;32m      7\u001b[0m \u001b[38;5;28;01mimport\u001b[39;00m \u001b[38;5;21;01mrequests\u001b[39;00m\n",
      "\u001b[1;31mModuleNotFoundError\u001b[0m: No module named 'webdriver_manager'"
     ]
    }
   ],
   "source": [
    "from selenium.webdriver import Chrome\n",
    "from selenium.webdriver.chrome.options import Options as ChromeOptions\n",
    "from selenium.webdriver.chrome.service import Service as ChromeService\n",
    "from webdriver_manager.chrome import ChromeDriverManager\n",
    "\n",
    "import random\n",
    "import requests\n",
    "import os\n",
    "from dotenv import load_dotenv\n",
    "load_dotenv()\n",
    "#load env variable\n",
    "LINKEDIN_LOGIN_URL= os.environ.get('LINKEDIN_LOGIN_URL')\n",
    "LINKEDIN_EMAIL= os.environ.get('LINKEDIN_EMAIL')\n",
    "LINKEDIN_PASSWORD= os.environ.get('LINKEDIN_PASSWORD')\n",
    "PROXY_PORT= os.environ.get('PROXY_PORT')\n",
    "PROXY_HOST= os.environ.get('PROXY_HOST')\n",
    "PROXY_USERNAME= os.environ.get('PROXY_USERNAME')\n",
    "PROXY_PASSWORD= os.environ.get('PROXY_PASSWORD')\n",
    "CHROME_EXTENSION_URL= os.environ.get('CHROME_EXTENSION_URL')\n",
    "FIREFOX_EXTENSION_URL= os.environ.get('FIREFOX_EXTENSION_URL')\n"
   ]
  },
  {
   "cell_type": "markdown",
   "metadata": {
    "editable": true,
    "slideshow": {
     "slide_type": ""
    },
    "tags": []
   },
   "source": [
    "## Custom Chrome Driver Class\n",
    "\n",
    "The following class defines a custom Chrome WebDriver that supports rotating User-Agent strings, managing cookies, using proxies, and downloading extensions."
   ]
  },
  {
   "cell_type": "code",
   "execution_count": 12,
   "metadata": {},
   "outputs": [],
   "source": [
    "class MyChromeDriver(Chrome):\n",
    "\n",
    "  def __init__(self,user_agents=None, extension_url=None,is_enable_auto_flags=True, *args, **kwargs):\n",
    "    \n",
    "    proxy = kwargs.get('proxy', None) \n",
    "    # extension_url = kwargs.get('extension_url', None) \n",
    "    self.extension_name=None\n",
    "    if extension_url is not None:\n",
    "       self.extension_name=self.download_extension(extension_url)\n",
    "    self.user_agents = user_agents or [\"Mozilla/5.0 (Windows NT 10.0; Win64; x64) AppleWebKit/537.36 (KHTML, like Gecko) Chrome/58.0.3029.110 Safari/537.3\"]\n",
    "\n",
    "    options = kwargs.get('options', None) or ChromeOptions()\n",
    "    #set Proxy options\n",
    "    if proxy is not None:\n",
    "       \n",
    "      options.add_argument('--proxy-server=%s:%s' % (proxy[0], proxy[1]))\n",
    "    #user agents\n",
    "    options.add_argument(f\"user-agent={random.choice(self.user_agents)}\")\n",
    "    # Set custom options to disable automation flags\n",
    "    if is_enable_auto_flags:\n",
    "      options.add_experimental_option(\"useAutomationExtension\", False)\n",
    "      options.add_argument(\"--disable-infobars\")\n",
    "      options.add_argument(\"--disable-blink-features=AutomationControlled\")\n",
    "    if self.extension_name is not None:\n",
    "       \n",
    "      options.add_argument(f\"--load-extension={os.path.abspath(os.path.join(os.getcwd(), self.extension_name))}\")\n",
    "\n",
    "    super().__init__(*args, **kwargs)\n",
    "\n",
    "  def rotate_user_agent(self):\n",
    "        \"\"\"Rotates the User-Agent from the pre-defined list by setting a new one.\"\"\"\n",
    "        new_user_agent = random.choice(self.user_agents)\n",
    "        self.execute_cdp_cmd('Network.setUserAgentOverride', {\"userAgent\": new_user_agent})\n",
    "        print(f\"User-Agent rotated to: {new_user_agent}\")\n",
    "\n",
    "  def add_cookie(self, cookie_dict):\n",
    "    \"\"\"\n",
    "        Adds a single cookie to your current session.\n",
    "        :param cookie_dict: A dictionary object with details for the cookie: \n",
    "                            {'name': 'cookie_name', 'value': 'cookie_value', ...}\n",
    "    \"\"\"\n",
    "    super().add_cookie(cookie_dict)\n",
    "\n",
    "  def add_cookies(self, cookies):\n",
    "    \"\"\"\n",
    "        Adds a list of cookies to your current session.\n",
    "        :param cookies: A list of dictionaries where each dict contains \n",
    "                        details for a single cookie to be added.\n",
    "    \"\"\"\n",
    "    for cookie in cookies:\n",
    "      self.add_cookie(cookie)\n",
    "\n",
    "  def get_cookie(self, name):\n",
    "\n",
    "    \"\"\"\n",
    "        Get a single cookie by name. Returns the cookie if found, None if not.\n",
    "        :param name: Name of the cookie.\n",
    "    \"\"\"\n",
    "    return super().get_cookie(name)\n",
    "\n",
    "  def get_all_cookies(self):\n",
    "    \"\"\"\n",
    "        Returns a list of all cookies in the current session.\n",
    "    \"\"\"\n",
    "    return super().get_cookies()\n",
    "\n",
    "  def login_and_save_cookies(self, login_url, login_function, **login_args):\n",
    "    \"\"\"\n",
    "        Perform login and then save the cookies post-login.\n",
    "        :param login_url: The URL to navigate to for login.\n",
    "        :param login_function: A function to call to perform login actions.\n",
    "                               This function should accept a driver instance as its first argument,\n",
    "                               followed by any *login_args. \n",
    "        :param login_args: Arguments necessary to perform the login provided to login_function.\n",
    "    \"\"\"\n",
    "    # Navigate to the login page\n",
    "    self.get(login_url)\n",
    "    # Execute the login action, passing this driver instance and any other login args\n",
    "    login_function(self, *login_args)\n",
    "        # Save cookies after login\n",
    "    return self.get_all_cookies()\n",
    "  \n",
    "  def download_extension(self,extension_url):\n",
    "    response = requests.get(extension_url)\n",
    "    name='extension.crx'\n",
    "    with open(name, 'wb') as f:\n",
    "        f.write(response.content)\n",
    "    print(\"Extension downloaded successfully.\")\n",
    "    return name\n",
    "    \n"
   ]
  },
  {
   "cell_type": "markdown",
   "metadata": {},
   "source": [
    "__init__(self, user_agents=None, extension_url=None,,is_enable_auto_flags=True, *args, **kwargs): This initializes the Chrome driver instance. It accepts optional arguments for user agents and extension URL.\n",
    "\n",
    "rotate_user_agent(self): This method rotates the User-Agent used by the browser, similar to the one in the Firefox driver. It can be used for web scraping or testing purposes.\n",
    "\n",
    "add_cookie(self, cookie_dict): Adds a single cookie to the current session, similar to the Firefox driver method.\n",
    "\n",
    "add_cookies(self, cookies): Adds a list of cookies to the current session, similar to the Firefox driver method.\n",
    "\n",
    "get_cookie(self, name): Retrieves a single cookie by its name from the current session, similar to the Firefox driver method.\n",
    "\n",
    "get_all_cookies(self): Retrieves all cookies present in the current session, similar to the Firefox driver method.\n",
    "\n",
    "login_and_save_cookies(self, login_url, login_function, *login_args): This method automates the login process and then saves the cookies obtained after successful login. It's similar to the Firefox driver method.\n",
    "\n",
    "download_extension(self, extension_url): Downloads a Chrome extension from a given URL. This can be used for automation tasks involving extensions, similar to the Firefox driver method.\n",
    "\n",
    "\n",
    "## Below We are going to test driver with/without automation flag False/True"
   ]
  },
  {
   "cell_type": "code",
   "execution_count": 13,
   "metadata": {},
   "outputs": [
    {
     "ename": "NameError",
     "evalue": "name 'PROXY_HOST' is not defined",
     "output_type": "error",
     "traceback": [
      "\u001b[1;31m---------------------------------------------------------------------------\u001b[0m",
      "\u001b[1;31mNameError\u001b[0m                                 Traceback (most recent call last)",
      "Cell \u001b[1;32mIn[13], line 1\u001b[0m\n\u001b[1;32m----> 1\u001b[0m proxy_host \u001b[38;5;241m=\u001b[39m PROXY_HOST\n\u001b[0;32m      2\u001b[0m proxy_port \u001b[38;5;241m=\u001b[39m PROXY_PORT\n\u001b[0;32m      4\u001b[0m user_agents \u001b[38;5;241m=\u001b[39m [\n\u001b[0;32m      5\u001b[0m     \u001b[38;5;124m\"\u001b[39m\u001b[38;5;124mMozilla/5.0 (Windows NT 10.0; Win64; x64) AppleWebKit/537.36 (KHTML, like Gecko) Chrome/64.0.3282.140 Safari/537.36 Edge/17.17134\u001b[39m\u001b[38;5;124m\"\u001b[39m,\n\u001b[0;32m      6\u001b[0m     \u001b[38;5;124m\"\u001b[39m\u001b[38;5;124mMozilla/5.0 (X11; Ubuntu; Linux x86_64; rv:52.0) Gecko/20100101 Firefox/52.0\u001b[39m\u001b[38;5;124m\"\u001b[39m\n\u001b[0;32m      7\u001b[0m ]\n",
      "\u001b[1;31mNameError\u001b[0m: name 'PROXY_HOST' is not defined"
     ]
    }
   ],
   "source": [
    "proxy_host = PROXY_HOST\n",
    "proxy_port = PROXY_PORT\n",
    "\n",
    "user_agents = [\n",
    "    \"Mozilla/5.0 (Windows NT 10.0; Win64; x64) AppleWebKit/537.36 (KHTML, like Gecko) Chrome/64.0.3282.140 Safari/537.36 Edge/17.17134\",\n",
    "    \"Mozilla/5.0 (X11; Ubuntu; Linux x86_64; rv:52.0) Gecko/20100101 Firefox/52.0\"\n",
    "]\n",
    "\n",
    "# Install the Chrome Driver\n",
    "service = ChromeService(ChromeDriverManager().install())\n",
    "\n",
    "# Download the extension CRX file\n",
    "extension_url = CHROME_EXTENSION_URL\n",
    "# download_extension(extension_url)\n",
    "\n",
    "# # Set up Chrome options to load the extension\n",
    "# chrome_options = Options()\n",
    "\n",
    "# Initialize the driver with the loaded extension\n",
    "driver = MyChromeDriver(service=service, user_agents=user_agents,is_enable_auto_flags=False,extension_url=extension_url)\n",
    "\n",
    "\n",
    "driver\n"
   ]
  },
  {
   "cell_type": "markdown",
   "metadata": {},
   "source": [
    "## Let's try with automations Flags"
   ]
  },
  {
   "cell_type": "code",
   "execution_count": 14,
   "metadata": {},
   "outputs": [
    {
     "ename": "NameError",
     "evalue": "name 'service' is not defined",
     "output_type": "error",
     "traceback": [
      "\u001b[1;31m---------------------------------------------------------------------------\u001b[0m",
      "\u001b[1;31mNameError\u001b[0m                                 Traceback (most recent call last)",
      "Cell \u001b[1;32mIn[14], line 2\u001b[0m\n\u001b[0;32m      1\u001b[0m \u001b[38;5;66;03m# Initialize the driver with the loaded extension\u001b[39;00m\n\u001b[1;32m----> 2\u001b[0m driver \u001b[38;5;241m=\u001b[39m MyChromeDriver(service\u001b[38;5;241m=\u001b[39mservice, user_agents\u001b[38;5;241m=\u001b[39muser_agents,extension_url\u001b[38;5;241m=\u001b[39mextension_url)\n\u001b[0;32m      5\u001b[0m driver\n",
      "\u001b[1;31mNameError\u001b[0m: name 'service' is not defined"
     ]
    }
   ],
   "source": [
    "# Initialize the driver with the loaded extension\n",
    "driver = MyChromeDriver(service=service, user_agents=user_agents,extension_url=extension_url)\n",
    "\n",
    "\n",
    "driver"
   ]
  },
  {
   "cell_type": "markdown",
   "metadata": {},
   "source": [
    "## Let's Try to rotate User Agents"
   ]
  },
  {
   "cell_type": "code",
   "execution_count": 15,
   "metadata": {},
   "outputs": [
    {
     "ename": "NameError",
     "evalue": "name 'driver' is not defined",
     "output_type": "error",
     "traceback": [
      "\u001b[1;31m---------------------------------------------------------------------------\u001b[0m",
      "\u001b[1;31mNameError\u001b[0m                                 Traceback (most recent call last)",
      "Cell \u001b[1;32mIn[15], line 2\u001b[0m\n\u001b[0;32m      1\u001b[0m \u001b[38;5;66;03m# Rotate user agents\u001b[39;00m\n\u001b[1;32m----> 2\u001b[0m driver\u001b[38;5;241m.\u001b[39mrotate_user_agent()\n",
      "\u001b[1;31mNameError\u001b[0m: name 'driver' is not defined"
     ]
    }
   ],
   "source": [
    "# Rotate user agents\n",
    "driver.rotate_user_agent()  \n",
    "\n"
   ]
  },
  {
   "cell_type": "markdown",
   "metadata": {},
   "source": [
    "## Let's try to Login and lastly save Cookies"
   ]
  },
  {
   "cell_type": "code",
   "execution_count": 16,
   "metadata": {},
   "outputs": [
    {
     "ename": "KeyError",
     "evalue": "'LINKEDIN_LOGIN_URL'",
     "output_type": "error",
     "traceback": [
      "\u001b[1;31m---------------------------------------------------------------------------\u001b[0m",
      "\u001b[1;31mKeyError\u001b[0m                                  Traceback (most recent call last)",
      "Cell \u001b[1;32mIn[16], line 2\u001b[0m\n\u001b[0;32m      1\u001b[0m \u001b[38;5;66;03m# Login URL\u001b[39;00m\n\u001b[1;32m----> 2\u001b[0m login_url \u001b[38;5;241m=\u001b[39m os\u001b[38;5;241m.\u001b[39menviron[\u001b[38;5;124m'\u001b[39m\u001b[38;5;124mLINKEDIN_LOGIN_URL\u001b[39m\u001b[38;5;124m'\u001b[39m] \n\u001b[0;32m      4\u001b[0m \u001b[38;5;66;03m# Perform login and save cookies\u001b[39;00m\n\u001b[0;32m      5\u001b[0m cookies \u001b[38;5;241m=\u001b[39m driver\u001b[38;5;241m.\u001b[39mlogin_and_save_cookies(login_url, login_to_linkedin_with_proxy)\n",
      "File \u001b[1;32m<frozen os>:679\u001b[0m, in \u001b[0;36m__getitem__\u001b[1;34m(self, key)\u001b[0m\n",
      "\u001b[1;31mKeyError\u001b[0m: 'LINKEDIN_LOGIN_URL'"
     ]
    }
   ],
   "source": [
    "# Login URL\n",
    "login_url = os.environ['LINKEDIN_LOGIN_URL'] \n",
    "\n",
    "# Perform login and save cookies\n",
    "cookies = driver.login_and_save_cookies(login_url, login_to_linkedin_with_proxy)\n",
    "\n",
    "# Add cookies to the driver\n",
    "driver.add_cookies(cookies)\n",
    "\n",
    "# Additional actions using the driver, if any\n",
    "specific_cookie = driver.get_cookie('session_cookie_name')\n",
    "all_cookies = driver.get_all_cookies()\n",
    "\n",
    "all_cookies"
   ]
  },
  {
   "cell_type": "markdown",
   "metadata": {},
   "source": [
    "## Running the Script\n",
    "\n",
    "Before running the script, ensure that you have:\n",
    "- Installed the necessary packages using `pip install selenium requests`.\n",
    "- Downloaded the appropriate WebDriver for Chrome and added it to your system PATH.\n",
    "\n",
    "The following cell initializes the custom Chrome WebDriver and demonstrates how to use the methods defined in the class.\n"
   ]
  },
  {
   "cell_type": "code",
   "execution_count": 20,
   "metadata": {},
   "outputs": [
    {
     "ename": "NameError",
     "evalue": "name 'driver' is not defined",
     "output_type": "error",
     "traceback": [
      "\u001b[1;31m---------------------------------------------------------------------------\u001b[0m",
      "\u001b[1;31mNameError\u001b[0m                                 Traceback (most recent call last)",
      "Cell \u001b[1;32mIn[20], line 2\u001b[0m\n\u001b[0;32m      1\u001b[0m \u001b[38;5;66;03m# Rotate user agents\u001b[39;00m\n\u001b[1;32m----> 2\u001b[0m driver\u001b[38;5;241m.\u001b[39mrotate_user_agent()\n\u001b[0;32m      4\u001b[0m \u001b[38;5;66;03m# Login URL\u001b[39;00m\n\u001b[0;32m      5\u001b[0m login_url \u001b[38;5;241m=\u001b[39m os\u001b[38;5;241m.\u001b[39menviron[\u001b[38;5;124m'\u001b[39m\u001b[38;5;124mLINKEDIN_LOGIN_URL\u001b[39m\u001b[38;5;124m'\u001b[39m]\n",
      "\u001b[1;31mNameError\u001b[0m: name 'driver' is not defined"
     ]
    }
   ],
   "source": [
    "# Rotate user agents\n",
    "driver.rotate_user_agent()\n",
    "\n",
    "# Login URL\n",
    "login_url = os.environ['LINKEDIN_LOGIN_URL']\n",
    "\n",
    "# Perform login and save cookies\n",
    "cookies = driver.login_and_save_cookies(login_url, login_to_linkedin_with_proxy)\n",
    "\n",
    "# Add cookies to the driver\n",
    "driver.add_cookies(cookies)\n",
    "\n",
    "# Additional actions using the driver, if any\n",
    "specific_cookie = driver.get_cookie('session_cookie_name')\n",
    "all_cookies = driver.get_all_cookies()\n",
    "\n",
    "# Print cookies for demonstration\n",
    "print(specific_cookie)\n",
    "print(all_cookies)\n",
    "\n",
    "# Close the driver\n",
    "driver.quit()"
   ]
  },
  {
   "cell_type": "markdown",
   "metadata": {},
   "source": [
    "\n",
    "# Here are some use cases where Selenium automation flags may be disabled:\n",
    "## Data collection: \n",
    "To disable data collection, set the SE_AVOID_STATS environment variable to true or set avoid-stats = true in the configuration file\n",
    "## Automation indicator: \n",
    "To avoid bot detection, disable the automation indicator WebDriver Flags\n",
    "## Infobars: \n",
    "To disable the \"Chrome is being controlled by automated test software\" message, update the Selenium - Chrome profile with the disable-infobars argument"
   ]
  }
 ],
 "metadata": {
  "kernelspec": {
   "display_name": "Python 3 (ipykernel)",
   "language": "python",
   "name": "python3"
  },
  "language_info": {
   "codemirror_mode": {
    "name": "ipython",
    "version": 3
   },
   "file_extension": ".py",
   "mimetype": "text/x-python",
   "name": "python",
   "nbconvert_exporter": "python",
   "pygments_lexer": "ipython3",
   "version": "3.11.7"
  }
 },
 "nbformat": 4,
 "nbformat_minor": 4
}
