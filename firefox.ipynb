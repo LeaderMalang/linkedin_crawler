{
 "cells": [
  {
   "cell_type": "markdown",
   "metadata": {},
   "source": [
    "## Could you please provide me with an illustration of the effect of the measures that you took in order to reduce the \"automation\"-signature of the driver and the effects each steps head on the driver (I think you said one it effects the headers of the browser). So I would suggest simply illustrate it by pointing out how each steps influences the headers.\n",
    "\n",
    "1. Setting a Random User-Agent: By rotating the User-Agent with a random one from a predefined list (user_agents), the browser header is modified to appear as if it's coming from different browsers and devices. This variation makes it harder for websites to detect and block automated traffic solely based on User-Agent.\n",
    "\n",
    "2. Disabling Automation Flags: The lines options.add_experimental_option(\"useAutomationExtension\", False) and options.add_argument(\"--disable-blink-features=AutomationControlled\") disable certain browser features associated with automation. This prevents websites from detecting WebDriver automation through these flags in the browser's header.\n",
    "\n",
    "3. Disabling Info Bars: The line options.add_argument(\"--disable-infobars\") disables info bars that might indicate the browser is being controlled by automation software. This helps in reducing the detectability of automation.\n",
    "\n",
    "4. Adding Extension: If an extension is provided (extension_url), it's downloaded and loaded into the browser. This might modify browser behavior, potentially altering the headers and other characteristics of the browser, making it less recognizable as a WebDriver instance.\n",
    "\n",
    "5. Using Randomized User-Agent in CDP Command: In rotate_user_agent(self), the method execute_cdp_cmd('Network.setUserAgentOverride', {\"userAgent\": new_user_agent}) sets a new User-Agent using Chrome DevTools Protocol (CDP). This change directly modifies the User-Agent in the browser's headers."
   ]
  },
  {
   "cell_type": "markdown",
   "metadata": {},
   "source": [
    "# Install Modules"
   ]
  },
  {
   "cell_type": "code",
   "execution_count": 24,
   "metadata": {},
   "outputs": [
    {
     "name": "stdout",
     "output_type": "stream",
     "text": [
      "Requirement already satisfied: selenium in c:\\users\\acs\\anaconda3\\lib\\site-packages (4.21.0)\n",
      "Requirement already satisfied: urllib3<3,>=1.26 in c:\\users\\acs\\anaconda3\\lib\\site-packages (from urllib3[socks]<3,>=1.26->selenium) (2.0.7)\n",
      "Requirement already satisfied: trio~=0.17 in c:\\users\\acs\\anaconda3\\lib\\site-packages (from selenium) (0.25.1)\n",
      "Requirement already satisfied: trio-websocket~=0.9 in c:\\users\\acs\\anaconda3\\lib\\site-packages (from selenium) (0.11.1)\n",
      "Requirement already satisfied: certifi>=2021.10.8 in c:\\users\\acs\\anaconda3\\lib\\site-packages (from selenium) (2024.2.2)\n",
      "Requirement already satisfied: typing_extensions>=4.9.0 in c:\\users\\acs\\anaconda3\\lib\\site-packages (from selenium) (4.9.0)\n",
      "Requirement already satisfied: attrs>=23.2.0 in c:\\users\\acs\\anaconda3\\lib\\site-packages (from trio~=0.17->selenium) (23.2.0)\n",
      "Requirement already satisfied: sortedcontainers in c:\\users\\acs\\anaconda3\\lib\\site-packages (from trio~=0.17->selenium) (2.4.0)\n",
      "Requirement already satisfied: idna in c:\\users\\acs\\anaconda3\\lib\\site-packages (from trio~=0.17->selenium) (3.4)\n",
      "Requirement already satisfied: outcome in c:\\users\\acs\\anaconda3\\lib\\site-packages (from trio~=0.17->selenium) (1.3.0.post0)\n",
      "Requirement already satisfied: sniffio>=1.3.0 in c:\\users\\acs\\anaconda3\\lib\\site-packages (from trio~=0.17->selenium) (1.3.0)\n",
      "Requirement already satisfied: cffi>=1.14 in c:\\users\\acs\\anaconda3\\lib\\site-packages (from trio~=0.17->selenium) (1.16.0)\n",
      "Requirement already satisfied: wsproto>=0.14 in c:\\users\\acs\\anaconda3\\lib\\site-packages (from trio-websocket~=0.9->selenium) (1.2.0)\n",
      "Requirement already satisfied: pysocks!=1.5.7,<2.0,>=1.5.6 in c:\\users\\acs\\anaconda3\\lib\\site-packages (from urllib3[socks]<3,>=1.26->selenium) (1.7.1)\n",
      "Requirement already satisfied: pycparser in c:\\users\\acs\\anaconda3\\lib\\site-packages (from cffi>=1.14->trio~=0.17->selenium) (2.21)\n",
      "Requirement already satisfied: h11<1,>=0.9.0 in c:\\users\\acs\\anaconda3\\lib\\site-packages (from wsproto>=0.14->trio-websocket~=0.9->selenium) (0.14.0)\n",
      "Requirement already satisfied: python-dotenv in c:\\users\\acs\\anaconda3\\lib\\site-packages (0.21.0)\n",
      "Collecting webdriver-manager\n",
      "  Downloading webdriver_manager-4.0.1-py2.py3-none-any.whl.metadata (12 kB)\n",
      "Requirement already satisfied: requests in c:\\users\\acs\\anaconda3\\lib\\site-packages (from webdriver-manager) (2.31.0)\n",
      "Requirement already satisfied: python-dotenv in c:\\users\\acs\\anaconda3\\lib\\site-packages (from webdriver-manager) (0.21.0)\n",
      "Requirement already satisfied: packaging in c:\\users\\acs\\anaconda3\\lib\\site-packages (from webdriver-manager) (23.1)\n",
      "Requirement already satisfied: charset-normalizer<4,>=2 in c:\\users\\acs\\anaconda3\\lib\\site-packages (from requests->webdriver-manager) (2.0.4)\n",
      "Requirement already satisfied: idna<4,>=2.5 in c:\\users\\acs\\anaconda3\\lib\\site-packages (from requests->webdriver-manager) (3.4)\n",
      "Requirement already satisfied: urllib3<3,>=1.21.1 in c:\\users\\acs\\anaconda3\\lib\\site-packages (from requests->webdriver-manager) (2.0.7)\n",
      "Requirement already satisfied: certifi>=2017.4.17 in c:\\users\\acs\\anaconda3\\lib\\site-packages (from requests->webdriver-manager) (2024.2.2)\n",
      "Downloading webdriver_manager-4.0.1-py2.py3-none-any.whl (27 kB)\n",
      "Installing collected packages: webdriver-manager\n",
      "Successfully installed webdriver-manager-4.0.1\n"
     ]
    }
   ],
   "source": [
    "!pip install selenium\n",
    "\n",
    "!pip install python-dotenv\n",
    "\n",
    "!pip install webdriver-manager\n",
    "\n",
    "!pip install requests"
   ]
  },
  {
   "cell_type": "markdown",
   "metadata": {},
   "source": [
    "# LinkedIn Login Automation with Selenium\n",
    "\n",
    "This notebook demonstrates how to automate logging into LinkedIn using Selenium WebDriver with Python. The script will:\n",
    "- Log into LinkedIn using credentials stored in environment variables.\n",
    "- Scroll the feed continuously.\n",
    "- Click the \"See new posts\" button if it appears.\n",
    "\n",
    "**Note:** Ensure you have set the environment variables `LINKEDIN_EMAIL` and `LINKEDIN_PASSWORD` with your LinkedIn credentials."
   ]
  },
  {
   "cell_type": "code",
   "execution_count": 34,
   "metadata": {},
   "outputs": [],
   "source": [
    "# Import necessary modules\n",
    "from selenium.webdriver import Firefox\n",
    "from selenium.webdriver.firefox.options import Options as FirefoxOptions\n",
    "from selenium.webdriver.support.ui import WebDriverWait\n",
    "from selenium.webdriver.support import expected_conditions as EC\n",
    "from selenium.common.exceptions import NoSuchElementException\n",
    "from selenium.webdriver.common.by import By\n",
    "from selenium.webdriver.common.keys import Keys\n",
    "from selenium.webdriver.firefox.service import Service as FirefoxService\n",
    "from webdriver_manager.firefox import GeckoDriverManager\n",
    "import random\n",
    "import time\n",
    "import os\n",
    "from dotenv import load_dotenv\n",
    "load_dotenv()\n",
    "#load env variable\n",
    "LINKEDIN_LOGIN_URL= os.environ.get('LINKEDIN_LOGIN_URL')\n",
    "LINKEDIN_EMAIL= os.environ.get('LINKEDIN_EMAIL')\n",
    "LINKEDIN_PASSWORD= os.environ.get('LINKEDIN_PASSWORD')\n",
    "PROXY_PORT= os.environ.get('PROXY_PORT')\n",
    "PROXY_HOST= os.environ.get('PROXY_HOST')\n",
    "PROXY_USERNAME= os.environ.get('PROXY_USERNAME')\n",
    "PROXY_PASSWORD= os.environ.get('PROXY_PASSWORD')\n",
    "CHROME_EXTENSION_URL= os.environ.get('CHROME_EXTENSION_URL')\n",
    "FIREFOX_EXTENSION_URL= os.environ.get('FIREFOX_EXTENSION_URL')"
   ]
  },
  {
   "cell_type": "markdown",
   "metadata": {},
   "source": [
    "## Function to Login to LinkedIn\n",
    "\n",
    "The following function logs into LinkedIn and scrolls through the feed. It also clicks the \"See new posts\" button if it appears."
   ]
  },
  {
   "cell_type": "code",
   "execution_count": 35,
   "metadata": {},
   "outputs": [],
   "source": [
    "def login_to_linkedin_with_proxy(driver):\n",
    "    try:\n",
    "        # Set email here\n",
    "        email = 'razis928@gmail.com' \n",
    "        email_field = WebDriverWait(driver, 10).until(EC.presence_of_element_located((By.ID, \"session_key\")))\n",
    "        email_field.send_keys(email)\n",
    "        \n",
    "        # Set password here\n",
    "        password = 'shah1122'   \n",
    "        password_field = WebDriverWait(driver, 10).until(EC.presence_of_element_located((By.ID, \"session_password\")))\n",
    "        password_field.send_keys(password)\n",
    "\n",
    "        login_button = driver.find_element(By.CSS_SELECTOR, \"button[type='submit']\")\n",
    "        login_button.click()\n",
    "        \n",
    "        WebDriverWait(driver, 10).until(EC.url_contains(\"https://www.linkedin.com/feed/\"))\n",
    "        \n",
    "        print(\"Login successful!\")\n",
    "\n",
    "        while True:\n",
    "            driver.execute_script(\"window.scrollTo(0, document.body.scrollHeight);\")\n",
    "            time.sleep(5)\n",
    "            \n",
    "            # Check if the button exists\n",
    "            try:\n",
    "                button = driver.find_element(By.CSS_SELECTOR, \"button.artdeco-button.artdeco-button--secondary.mv5.t-14.t-black.t-normal\")\n",
    "                button.click()\n",
    "                print(\"Clicked 'See new posts' button.\")\n",
    "            except NoSuchElementException:\n",
    "                pass\n",
    "        \n",
    "    except Exception as e:\n",
    "        print(\"Error during login:\", e)\n",
    "        \n",
    "    finally:\n",
    "        driver.quit()"
   ]
  },
  {
   "cell_type": "markdown",
   "metadata": {},
   "source": [
    "## Running the Script\n",
    "\n",
    "Before running the script, ensure that you have:\n",
    "- Set up your environment variables `LINKEDIN_EMAIL` and `LINKEDIN_PASSWORD`.\n",
    "- Installed the necessary packages using `pip install -r requirements.txt`.\n",
    "- Downloaded the appropriate WebDriver for your browser and added it to your system PATH.\n",
    "\n",
    "The following cell initializes the WebDriver and calls the `login_to_linkedin_with_proxy` function."
   ]
  },
  {
   "cell_type": "markdown",
   "metadata": {},
   "source": [
    "# Custom Firefox WebDriver for Automated Tasks\n",
    "\n",
    "This notebook demonstrates how to use a custom Firefox WebDriver to automate tasks, such as rotating user agents, managing cookies, and logging into a website. The custom driver includes support for:\n",
    "- Rotating User-Agent strings.\n",
    "- Using proxies for HTTP and HTTPS traffic.\n",
    "- Adding, retrieving, and managing cookies.\n",
    "- Downloading and installing browser extensions.\n",
    "\n",
    "**Note:** Ensure you have set the environment variables `LINKEDIN_EMAIL` and `LINKEDIN_PASSWORD` with your LinkedIn credentials."
   ]
  },
  {
   "cell_type": "markdown",
   "metadata": {},
   "source": [
    "## Custom Firefox Driver Class\n",
    "\n",
    "The following class defines a custom Firefox WebDriver that supports rotating User-Agent strings, managing cookies, using proxies, and downloading extensions."
   ]
  },
  {
   "cell_type": "code",
   "execution_count": 36,
   "metadata": {},
   "outputs": [],
   "source": [
    "class MyFirefoxDriver(Firefox):\n",
    "    def __init__(self, user_agents=None,is_enable_auto_flags=True,*args, **kwargs):\n",
    "\n",
    "        # selopt = {}\n",
    "        # user_proxy=None\n",
    "        # if proxy is not None and proxy[\"host\"] and proxy[\"port\"]:\n",
    "\n",
    "        \n",
    "        self.extension_name=None\n",
    "        # if extension_url is not None:\n",
    "        #     self.extension_name=self.download_extension(extension_url)\n",
    "        #     self.install_addon(self.extension_name, temporary=True)\n",
    "        self.user_agents = user_agents or [\"Mozilla/5.0 (Windows NT 10.0; Win64; x64) AppleWebKit/537.36 (KHTML, like Gecko) Chrome/58.0.3029.110 Safari/537.3\"]\n",
    "\n",
    "        options = kwargs.pop('options', None) or FirefoxOptions()\n",
    "        if is_enable_auto_flags:\n",
    "            options.set_preference(\"dom.webdriver.enabled\", False)\n",
    "            options.set_preference('useAutomationExtension', False)\n",
    "        \n",
    "        \n",
    "        super().__init__(*args, options=options, **kwargs)\n",
    "    def rotate_user_agent(self):\n",
    "        \"\"\"Rotates the User-Agent from the pre-defined list by setting a new one.\"\"\"\n",
    "        new_user_agent = random.choice(self.user_agents)\n",
    "        self.profile.set_preference(\"general.useragent.override\", new_user_agent)\n",
    "        \n",
    "        # self.execute_cdp_cmd('Network.setUserAgentOverride', {\"userAgent\": new_user_agent})\n",
    "        print(f\"User-Agent rotated to: {new_user_agent}\")\n",
    "    \n",
    "    def add_cookie(self, cookie_dict):\n",
    "        \"\"\"\n",
    "        Adds a single cookie to your current session.\n",
    "        :param cookie_dict: A dictionary object with details for the cookie: \n",
    "                            {'name': 'cookie_name', 'value': 'cookie_value', ...}\n",
    "        \"\"\"\n",
    "        super().add_cookie(cookie_dict)\n",
    "\n",
    "    def add_cookies(self, cookies):\n",
    "        \"\"\"\n",
    "        Adds a list of cookies to your current session.\n",
    "        :param cookies: A list of dictionaries where each dict contains \n",
    "                        details for a single cookie to be added.\n",
    "        \"\"\"\n",
    "        for cookie in cookies:\n",
    "            self.add_cookie(cookie)\n",
    "\n",
    "    def get_cookie(self, name):\n",
    "        \"\"\"\n",
    "        Get a single cookie by name. Returns the cookie if found, None if not.\n",
    "        :param name: Name of the cookie.\n",
    "        \"\"\"\n",
    "        return super().get_cookie(name)\n",
    "\n",
    "    def get_all_cookies(self):\n",
    "        \"\"\"\n",
    "        Returns a list of all cookies in the current session.\n",
    "        \"\"\"\n",
    "        return super().get_cookies()\n",
    "\n",
    "    def login_and_save_cookies(self, login_url, login_function, *login_args):\n",
    "        \"\"\"\n",
    "        Perform login and then save the cookies post-login.\n",
    "        :param login_url: The URL to navigate to for login.\n",
    "        :param login_function: A function to call to perform login actions.\n",
    "                               This function should accept a driver instance as its first argument,\n",
    "                               followed by any *login_args. \n",
    "        :param login_args: Arguments necessary to perform the login provided to login_function.\n",
    "        \"\"\"\n",
    "        # Navigate to the login page\n",
    "        self.get(login_url)\n",
    "        # Execute the login action, passing this driver instance and any other login args\n",
    "        login_function(self, *login_args)\n",
    "        # Save cookies after login\n",
    "        return self.get_all_cookies()\n",
    "    def download_extension(self,extension_url):\n",
    "        response = requests.get(extension_url)\n",
    "        name='extension.xpi'\n",
    "        with open(name, 'wb') as f:\n",
    "            f.write(response.content)\n",
    "        print(\"Extension downloaded successfully.\")\n",
    "        return name\n"
   ]
  },
  {
   "cell_type": "markdown",
   "metadata": {},
   "source": [
    "def __init__(self, user_agents=None, profile=None, *args, **kwargs): This initializes the Firefox driver instance. It accepts optional arguments for user agents, and browser profile, among others.\n",
    "\n",
    "rotate_user_agent(self): This method rotates the User-Agent used by the browser. It might be used to simulate different user agents during web scraping or testing to avoid detection or gather diverse data.\n",
    "\n",
    "add_cookie(self, cookie_dict): Adds a single cookie to the current session. Useful for maintaining session state or authentication across requests.\n",
    "\n",
    "add_cookies(self, cookies): Adds a list of cookies to the current session. Similar to add_cookie, but for multiple cookies at once.\n",
    "\n",
    "get_cookie(self, name): Retrieves a single cookie by its name from the current session.\n",
    "\n",
    "get_all_cookies(self): Retrieves all cookies present in the current session.\n",
    "\n",
    "login_and_save_cookies(self, login_url, login_function, *login_args): This method automates the login process and then saves the cookies obtained after successful login. It could be handy for web automation tasks requiring authentication.\n",
    "\n",
    "download_extension(self, extension_url): Downloads a Firefox extension from a given URL. Useful for automation tasks involving extensions, such as testing or customizing browser behavior."
   ]
  },
  {
   "cell_type": "code",
   "execution_count": null,
   "metadata": {},
   "outputs": [],
   "source": [
    "proxy_host = PROXY_HOST\n",
    "proxy_port = PROXY_PORT\n",
    "\n",
    "user_agents = [\n",
    "    \"Mozilla/5.0 (Windows NT 10.0; Win64; x64) AppleWebKit/537.36 (KHTML, like Gecko) Chrome/64.0.3282.140 Safari/537.36 Edge/17.17134\",\n",
    "    \"Mozilla/5.0 (X11; Ubuntu; Linux x86_64; rv:52.0) Gecko/20100101 Firefox/52.0\"\n",
    "]\n",
    "\n",
    "# Install the Chrome Driver\n",
    "service = FirefoxService(GeckoDriverManager().install())\n",
    "\n",
    "# Download the extension CRX file\n",
    "extension_url = FIREFOX_EXTENSION_URL\n",
    "\n",
    "\n",
    "\n",
    "\n",
    "# Initialize the driver with the loaded extension\n",
    "driver = MyFirefoxDriver(service=service, user_agents=user_agents,is_enable_auto_flags=False)\n",
    "\n"
   ]
  },
  {
   "cell_type": "markdown",
   "metadata": {},
   "source": [
    "## Running the Script\n",
    "\n",
    "Before running the script, ensure that you have:\n",
    "- Installed the necessary packages using `pip install selenium  requests`.\n",
    "\n",
    "The following cell initializes the custom Firefox WebDriver and demonstrates how to use the methods defined in the class."
   ]
  },
  {
   "cell_type": "markdown",
   "metadata": {},
   "source": [
    "# LinkedIn Automation with Custom Firefox Driver\n",
    "\n",
    "This notebook demonstrates how to use a custom Firefox WebDriver to automate LinkedIn login, manage cookies, and rotate user agents using Selenium and environment variables. Ensure that you have set the necessary environment variables before running the script."
   ]
  },
  {
   "cell_type": "code",
   "execution_count": 38,
   "metadata": {},
   "outputs": [],
   "source": [
    "# Import necessary modules\n",
    "from selenium.webdriver.support.ui import WebDriverWait\n",
    "from selenium.webdriver.support import expected_conditions as EC\n",
    "from selenium.common.exceptions import NoSuchElementException\n",
    "from selenium.webdriver.common.by import By\n",
    "from selenium.webdriver.common.keys import Keys\n",
    "from selenium import webdriver\n",
    "import time\n",
    "import os\n",
    "from selenium.webdriver.firefox.service import Service as FirefoxService\n",
    "from webdriver_manager.firefox import GeckoDriverManager\n",
    "import os"
   ]
  },
  {
   "cell_type": "markdown",
   "metadata": {},
   "source": [
    "## Setting Up User Agents and Firefox Service\n",
    "\n",
    "Define a list of user agents and set up the Firefox WebDriver service using GeckoDriverManager."
   ]
  },
  {
   "cell_type": "code",
   "execution_count": 40,
   "metadata": {},
   "outputs": [],
   "source": [
    "user_agents = [\n",
    "    \"Mozilla/5.0 (Windows NT 10.0; Win64; x64) AppleWebKit/537.36 (KHTML, like Gecko) Chrome/64.0.3282.140 Safari/537.36 Edge/17.17134\",\n",
    "    \"Mozilla/5.0 (X11; Ubuntu; Linux x86_64; rv:52.0) Gecko/20100101 Firefox/52.0\"\n",
    "]\n",
    "\n",
    "# Install the Firefox Driver\n",
    "service = FirefoxService(GeckoDriverManager().install())"
   ]
  },
  {
   "cell_type": "markdown",
   "metadata": {},
   "source": [
    "## Initializing the Custom Firefox Driver\n",
    "\n",
    "Set up the Firefox profile and initialize the custom driver, then rotate the user agent."
   ]
  },
  {
   "cell_type": "code",
   "execution_count": 41,
   "metadata": {},
   "outputs": [
    {
     "ename": "SessionNotCreatedException",
     "evalue": "Message: Expected browser binary location, but unable to find binary in default location, no 'moz:firefoxOptions.binary' capability provided, and no binary flag set on the command line\n",
     "output_type": "error",
     "traceback": [
      "\u001b[1;31m---------------------------------------------------------------------------\u001b[0m",
      "\u001b[1;31mSessionNotCreatedException\u001b[0m                Traceback (most recent call last)",
      "Cell \u001b[1;32mIn[41], line 2\u001b[0m\n\u001b[0;32m      1\u001b[0m \u001b[38;5;66;03m# Initialize the driver with the loaded profile and user agents\u001b[39;00m\n\u001b[1;32m----> 2\u001b[0m driver \u001b[38;5;241m=\u001b[39m MyFirefoxDriver(service\u001b[38;5;241m=\u001b[39mservice, user_agents\u001b[38;5;241m=\u001b[39muser_agents,is_enable_auto_flags\u001b[38;5;241m=\u001b[39m\u001b[38;5;28;01mFalse\u001b[39;00m)\n\u001b[0;32m      4\u001b[0m driver\n",
      "Cell \u001b[1;32mIn[36], line 21\u001b[0m, in \u001b[0;36mMyFirefoxDriver.__init__\u001b[1;34m(self, user_agents, is_enable_auto_flags, *args, **kwargs)\u001b[0m\n\u001b[0;32m     17\u001b[0m     options\u001b[38;5;241m.\u001b[39mset_preference(\u001b[38;5;124m\"\u001b[39m\u001b[38;5;124mdom.webdriver.enabled\u001b[39m\u001b[38;5;124m\"\u001b[39m, \u001b[38;5;28;01mFalse\u001b[39;00m)\n\u001b[0;32m     18\u001b[0m     options\u001b[38;5;241m.\u001b[39mset_preference(\u001b[38;5;124m'\u001b[39m\u001b[38;5;124museAutomationExtension\u001b[39m\u001b[38;5;124m'\u001b[39m, \u001b[38;5;28;01mFalse\u001b[39;00m)\n\u001b[1;32m---> 21\u001b[0m \u001b[38;5;28msuper\u001b[39m()\u001b[38;5;241m.\u001b[39m\u001b[38;5;21m__init__\u001b[39m(\u001b[38;5;241m*\u001b[39margs, options\u001b[38;5;241m=\u001b[39moptions, \u001b[38;5;241m*\u001b[39m\u001b[38;5;241m*\u001b[39mkwargs)\n",
      "File \u001b[1;32m~\\anaconda3\\Lib\\site-packages\\selenium\\webdriver\\firefox\\webdriver.py:71\u001b[0m, in \u001b[0;36mWebDriver.__init__\u001b[1;34m(self, options, service, keep_alive)\u001b[0m\n\u001b[0;32m     64\u001b[0m executor \u001b[38;5;241m=\u001b[39m FirefoxRemoteConnection(\n\u001b[0;32m     65\u001b[0m     remote_server_addr\u001b[38;5;241m=\u001b[39m\u001b[38;5;28mself\u001b[39m\u001b[38;5;241m.\u001b[39mservice\u001b[38;5;241m.\u001b[39mservice_url,\n\u001b[0;32m     66\u001b[0m     keep_alive\u001b[38;5;241m=\u001b[39mkeep_alive,\n\u001b[0;32m     67\u001b[0m     ignore_proxy\u001b[38;5;241m=\u001b[39moptions\u001b[38;5;241m.\u001b[39m_ignore_local_proxy,\n\u001b[0;32m     68\u001b[0m )\n\u001b[0;32m     70\u001b[0m \u001b[38;5;28;01mtry\u001b[39;00m:\n\u001b[1;32m---> 71\u001b[0m     \u001b[38;5;28msuper\u001b[39m()\u001b[38;5;241m.\u001b[39m\u001b[38;5;21m__init__\u001b[39m(command_executor\u001b[38;5;241m=\u001b[39mexecutor, options\u001b[38;5;241m=\u001b[39moptions)\n\u001b[0;32m     72\u001b[0m \u001b[38;5;28;01mexcept\u001b[39;00m \u001b[38;5;167;01mException\u001b[39;00m:\n\u001b[0;32m     73\u001b[0m     \u001b[38;5;28mself\u001b[39m\u001b[38;5;241m.\u001b[39mquit()\n",
      "File \u001b[1;32m~\\anaconda3\\Lib\\site-packages\\selenium\\webdriver\\remote\\webdriver.py:208\u001b[0m, in \u001b[0;36mWebDriver.__init__\u001b[1;34m(self, command_executor, keep_alive, file_detector, options)\u001b[0m\n\u001b[0;32m    206\u001b[0m \u001b[38;5;28mself\u001b[39m\u001b[38;5;241m.\u001b[39m_authenticator_id \u001b[38;5;241m=\u001b[39m \u001b[38;5;28;01mNone\u001b[39;00m\n\u001b[0;32m    207\u001b[0m \u001b[38;5;28mself\u001b[39m\u001b[38;5;241m.\u001b[39mstart_client()\n\u001b[1;32m--> 208\u001b[0m \u001b[38;5;28mself\u001b[39m\u001b[38;5;241m.\u001b[39mstart_session(capabilities)\n",
      "File \u001b[1;32m~\\anaconda3\\Lib\\site-packages\\selenium\\webdriver\\remote\\webdriver.py:292\u001b[0m, in \u001b[0;36mWebDriver.start_session\u001b[1;34m(self, capabilities)\u001b[0m\n\u001b[0;32m    285\u001b[0m \u001b[38;5;250m\u001b[39m\u001b[38;5;124;03m\"\"\"Creates a new session with the desired capabilities.\u001b[39;00m\n\u001b[0;32m    286\u001b[0m \n\u001b[0;32m    287\u001b[0m \u001b[38;5;124;03m:Args:\u001b[39;00m\n\u001b[0;32m    288\u001b[0m \u001b[38;5;124;03m - capabilities - a capabilities dict to start the session with.\u001b[39;00m\n\u001b[0;32m    289\u001b[0m \u001b[38;5;124;03m\"\"\"\u001b[39;00m\n\u001b[0;32m    291\u001b[0m caps \u001b[38;5;241m=\u001b[39m _create_caps(capabilities)\n\u001b[1;32m--> 292\u001b[0m response \u001b[38;5;241m=\u001b[39m \u001b[38;5;28mself\u001b[39m\u001b[38;5;241m.\u001b[39mexecute(Command\u001b[38;5;241m.\u001b[39mNEW_SESSION, caps)[\u001b[38;5;124m\"\u001b[39m\u001b[38;5;124mvalue\u001b[39m\u001b[38;5;124m\"\u001b[39m]\n\u001b[0;32m    293\u001b[0m \u001b[38;5;28mself\u001b[39m\u001b[38;5;241m.\u001b[39msession_id \u001b[38;5;241m=\u001b[39m response\u001b[38;5;241m.\u001b[39mget(\u001b[38;5;124m\"\u001b[39m\u001b[38;5;124msessionId\u001b[39m\u001b[38;5;124m\"\u001b[39m)\n\u001b[0;32m    294\u001b[0m \u001b[38;5;28mself\u001b[39m\u001b[38;5;241m.\u001b[39mcaps \u001b[38;5;241m=\u001b[39m response\u001b[38;5;241m.\u001b[39mget(\u001b[38;5;124m\"\u001b[39m\u001b[38;5;124mcapabilities\u001b[39m\u001b[38;5;124m\"\u001b[39m)\n",
      "File \u001b[1;32m~\\anaconda3\\Lib\\site-packages\\selenium\\webdriver\\remote\\webdriver.py:347\u001b[0m, in \u001b[0;36mWebDriver.execute\u001b[1;34m(self, driver_command, params)\u001b[0m\n\u001b[0;32m    345\u001b[0m response \u001b[38;5;241m=\u001b[39m \u001b[38;5;28mself\u001b[39m\u001b[38;5;241m.\u001b[39mcommand_executor\u001b[38;5;241m.\u001b[39mexecute(driver_command, params)\n\u001b[0;32m    346\u001b[0m \u001b[38;5;28;01mif\u001b[39;00m response:\n\u001b[1;32m--> 347\u001b[0m     \u001b[38;5;28mself\u001b[39m\u001b[38;5;241m.\u001b[39merror_handler\u001b[38;5;241m.\u001b[39mcheck_response(response)\n\u001b[0;32m    348\u001b[0m     response[\u001b[38;5;124m\"\u001b[39m\u001b[38;5;124mvalue\u001b[39m\u001b[38;5;124m\"\u001b[39m] \u001b[38;5;241m=\u001b[39m \u001b[38;5;28mself\u001b[39m\u001b[38;5;241m.\u001b[39m_unwrap_value(response\u001b[38;5;241m.\u001b[39mget(\u001b[38;5;124m\"\u001b[39m\u001b[38;5;124mvalue\u001b[39m\u001b[38;5;124m\"\u001b[39m, \u001b[38;5;28;01mNone\u001b[39;00m))\n\u001b[0;32m    349\u001b[0m     \u001b[38;5;28;01mreturn\u001b[39;00m response\n",
      "File \u001b[1;32m~\\anaconda3\\Lib\\site-packages\\selenium\\webdriver\\remote\\errorhandler.py:229\u001b[0m, in \u001b[0;36mErrorHandler.check_response\u001b[1;34m(self, response)\u001b[0m\n\u001b[0;32m    227\u001b[0m         alert_text \u001b[38;5;241m=\u001b[39m value[\u001b[38;5;124m\"\u001b[39m\u001b[38;5;124malert\u001b[39m\u001b[38;5;124m\"\u001b[39m]\u001b[38;5;241m.\u001b[39mget(\u001b[38;5;124m\"\u001b[39m\u001b[38;5;124mtext\u001b[39m\u001b[38;5;124m\"\u001b[39m)\n\u001b[0;32m    228\u001b[0m     \u001b[38;5;28;01mraise\u001b[39;00m exception_class(message, screen, stacktrace, alert_text)  \u001b[38;5;66;03m# type: ignore[call-arg]  # mypy is not smart enough here\u001b[39;00m\n\u001b[1;32m--> 229\u001b[0m \u001b[38;5;28;01mraise\u001b[39;00m exception_class(message, screen, stacktrace)\n",
      "\u001b[1;31mSessionNotCreatedException\u001b[0m: Message: Expected browser binary location, but unable to find binary in default location, no 'moz:firefoxOptions.binary' capability provided, and no binary flag set on the command line\n"
     ]
    }
   ],
   "source": [
    "\n",
    "\n",
    "# Initialize the driver with the loaded profile and user agents\n",
    "driver = MyFirefoxDriver(service=service, user_agents=user_agents,is_enable_auto_flags=False)\n",
    "\n",
    "driver"
   ]
  },
  {
   "cell_type": "markdown",
   "metadata": {},
   "source": [
    "# Rotate user agents"
   ]
  },
  {
   "cell_type": "code",
   "execution_count": null,
   "metadata": {},
   "outputs": [],
   "source": [
    "driver.rotate_user_agent()"
   ]
  },
  {
   "cell_type": "markdown",
   "metadata": {},
   "source": [
    "## Logging into LinkedIn and Managing Cookies\n",
    "\n",
    "Log into LinkedIn using the custom driver, save cookies, and perform additional actions."
   ]
  },
  {
   "cell_type": "code",
   "execution_count": null,
   "metadata": {},
   "outputs": [],
   "source": [
    "# Login URL\n",
    "login_url = \"https://www.linkedin.com/\"\n",
    "\n",
    "# Perform login and save cookies\n",
    "cookies = driver.login_and_save_cookies(login_url, login_to_linkedin_with_proxy)\n",
    "\n",
    "# Add cookies to the driver\n",
    "driver.add_cookies(cookies)\n",
    "\n",
    "# Additional actions using the driver, if any\n",
    "specific_cookie = driver.get_cookie('session_cookie_name')\n",
    "all_cookies = driver.get_all_cookies()\n",
    "\n",
    "# Print cookies for demonstration\n",
    "print(specific_cookie)\n",
    "print(all_cookies)"
   ]
  },
  {
   "cell_type": "markdown",
   "metadata": {},
   "source": [
    "## Logging into LinkedIn and Managing Cookies\n",
    "\n",
    "Log into LinkedIn using the custom driver, save cookies, and perform additional actions."
   ]
  }
 ],
 "metadata": {
  "kernelspec": {
   "display_name": "Python 3 (ipykernel)",
   "language": "python",
   "name": "python3"
  },
  "language_info": {
   "codemirror_mode": {
    "name": "ipython",
    "version": 3
   },
   "file_extension": ".py",
   "mimetype": "text/x-python",
   "name": "python",
   "nbconvert_exporter": "python",
   "pygments_lexer": "ipython3",
   "version": "3.11.7"
  }
 },
 "nbformat": 4,
 "nbformat_minor": 4
}
